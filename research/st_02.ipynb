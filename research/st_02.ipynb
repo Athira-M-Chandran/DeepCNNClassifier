{
 "cells": [
  {
   "cell_type": "code",
   "execution_count": 1,
   "metadata": {},
   "outputs": [],
   "source": [
    "import os\n",
    "os.chdir(\"../\")\n"
   ]
  },
  {
   "cell_type": "code",
   "execution_count": 2,
   "metadata": {},
   "outputs": [],
   "source": [
    "from dataclasses import dataclass\n",
    "from pathlib import Path\n",
    "\n",
    "\n",
    "@dataclass(frozen=True)\n",
    "class PrepareBaseModelConfig:\n",
    "    root_dir: Path\n",
    "    base_mode_path: Path\n",
    "    updated_base_mode_path: Path\n",
    "    params_image_size: list\n",
    "    params_learning_rate:float\n",
    "    params_include_top:bool\n",
    "    params_weights: str\n",
    "    params_classes: int"
   ]
  },
  {
   "cell_type": "code",
   "execution_count": 3,
   "metadata": {},
   "outputs": [],
   "source": [
    "from deepClassifier.constants import *\n",
    "from deepClassifier.utils import read_yaml, create_directories"
   ]
  },
  {
   "cell_type": "code",
   "execution_count": 5,
   "metadata": {},
   "outputs": [],
   "source": [
    "class ConfigurationManager:\n",
    "    def __init__(\n",
    "        self,config_filepath = CONFIG_FILE_PATH,\n",
    "        params_filepath = PARAMS_FILE_PATH\n",
    "    ):\n",
    "        self.config = read_yaml(config_filepath)\n",
    "        self.params = read_yaml(params_filepath)\n",
    "        create_directories([self.config.artifacts_root])\n",
    "\n",
    "    def get_prepare_base_model_config(self) -> PrepareBaseModelConfig:\n",
    "        config = self.config.prepare_base_model\n",
    "        \n",
    "        create_directories([config.root_dir])\n",
    "        \n",
    "        prepare_base_model_config = PrepareBaseModelConfig(\n",
    "            root_dir=config.root_dir,\n",
    "            base_mode_path=config.base_mode_path,\n",
    "            updated_base_mode_path=config.updated_base_mode_path,\n",
    "               params_image_size= self.params.IMAGE_SIZE,\n",
    "               params_learning_rate=self.params.LEARNING_RATE,\n",
    "               params_include_top=self.params.INCLUDE_TOP,\n",
    "               params_weights= self.params.WEIGHTS,\n",
    "               params_classes= self.params.CLASSES\n",
    "        )\n",
    "        return prepare_base_model_config"
   ]
  },
  {
   "cell_type": "code",
   "execution_count": null,
   "metadata": {},
   "outputs": [],
   "source": [
    "import os\n",
    "import urllib.request as request\n",
    "from zipfile import ZipFile\n",
    "import tensorflow as tf\n",
    "\n",
    "class PrepareBaseModel:\n",
    "    def __init__(self,config: PrepareBaseModelConfig):\n",
    "        self.config = config\n",
    "    def get_base_model(self):\n",
    "        self.model = tf.keras.applications.vgg16.VGG16(\n",
    "            input_shape =self.config.params_image_size,\n",
    "            weights=self.config.params_weights,\n",
    "            include_top=self.config.params_include_top\n",
    "        )\n",
    "\n",
    "        base_model_path = self.config.base_model_path\n",
    "    def update_base_model(self):\n",
    "        pass\n",
    "    def save_model(self,path:Path, model:tf.keras.model):\n",
    "        pass\n",
    "    "
   ]
  },
  {
   "cell_type": "code",
   "execution_count": null,
   "metadata": {},
   "outputs": [],
   "source": [
    "try:\n",
    "\n",
    "    config = ConfigurationManager()\n",
    "    prepare_base_model_config = config.get_prepare_base_model_config()\n",
    "    prepare_base_model = PrepareBaseModel(config = prepare_base_model_config)\n",
    "    prepare_base_model.get_base_model()\n",
    "    prepare_base_model.update_base_model()\n",
    "    prepare_base_model.save_model()\n",
    "except Exception as e:\n",
    "    raise e"
   ]
  },
  {
   "cell_type": "markdown",
   "metadata": {},
   "source": []
  }
 ],
 "metadata": {
  "kernelspec": {
   "display_name": "Python 3.8.15 (conda)",
   "language": "python",
   "name": "python3"
  },
  "language_info": {
   "codemirror_mode": {
    "name": "ipython",
    "version": 3
   },
   "file_extension": ".py",
   "mimetype": "text/x-python",
   "name": "python",
   "nbconvert_exporter": "python",
   "pygments_lexer": "ipython3",
   "version": "3.8.15"
  },
  "orig_nbformat": 4,
  "vscode": {
   "interpreter": {
    "hash": "6ee389b6fd5680d01c44917c1212b4c09ead7d0a63469ff6d06dd80212d603e1"
   }
  }
 },
 "nbformat": 4,
 "nbformat_minor": 2
}
